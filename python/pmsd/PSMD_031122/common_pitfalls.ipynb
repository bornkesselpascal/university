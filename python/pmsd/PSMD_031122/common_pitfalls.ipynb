{
 "cells": [
  {
   "cell_type": "markdown",
   "metadata": {},
   "source": [
    "# Common Pitfalls"
   ]
  },
  {
   "cell_type": "markdown",
   "metadata": {},
   "source": [
    "- Using mutables as default parameter"
   ]
  },
  {
   "cell_type": "code",
   "execution_count": 1,
   "metadata": {},
   "outputs": [
    {
     "name": "stdout",
     "output_type": "stream",
     "text": [
      "[1, 'he']\n",
      "[-3, 'he']\n",
      "['he']\n",
      "['1', 'he']\n",
      "['he', 'he']\n"
     ]
    }
   ],
   "source": [
    "def fkt(l = []):\n",
    "    l.append('he')\n",
    "    print(l)\n",
    "\n",
    "\n",
    "fkt([1])\n",
    "fkt([-3])\n",
    "\n",
    "fkt()\n",
    "fkt(['1'])\n",
    "fkt()           # Calling the fucntion again with the default parameter. There is one instance for every default parameter (contains already he)."
   ]
  },
  {
   "cell_type": "markdown",
   "metadata": {},
   "source": [
    "- Misstyping values in classes"
   ]
  },
  {
   "cell_type": "code",
   "execution_count": 2,
   "metadata": {},
   "outputs": [
    {
     "name": "stdout",
     "output_type": "stream",
     "text": [
      "hello there!\n",
      "ok\n"
     ]
    }
   ],
   "source": [
    "class A:\n",
    "\n",
    "    def __init__(self) -> None:\n",
    "        self.var1 = 'hello there!'\n",
    "\n",
    "    def print_v(self):\n",
    "        print(self.var1)\n",
    "\n",
    "a = A()\n",
    "a.print_v()\n",
    "\n",
    "a.varl = 'ok'       # This is varL!\n",
    "\n",
    "a.print_v()"
   ]
  },
  {
   "cell_type": "markdown",
   "metadata": {},
   "source": [
    "- Creating multiple lists from one"
   ]
  },
  {
   "cell_type": "code",
   "execution_count": 4,
   "metadata": {},
   "outputs": [
    {
     "name": "stdout",
     "output_type": "stream",
     "text": [
      "[[], [], [], [], []]\n",
      "[[1], [1], [1], [1], [1]]\n",
      "[[], [], [], [], []]\n",
      "[[1], [], [], [], []]\n"
     ]
    }
   ],
   "source": [
    "k = [[]]*5\n",
    "\n",
    "print(k)                            # Same reference\n",
    "k[0].append(1)\n",
    "print(k)\n",
    "\n",
    "l = [[] for _ in range(0, 5)]       # Not the same reference\n",
    "print(l)\n",
    "l[0].append(1)\n",
    "print(l)"
   ]
  },
  {
   "cell_type": "markdown",
   "metadata": {},
   "source": [
    "- Using typical increment/decrement ++i / --i"
   ]
  },
  {
   "cell_type": "code",
   "execution_count": 20,
   "metadata": {},
   "outputs": [
    {
     "name": "stdout",
     "output_type": "stream",
     "text": [
      "7\n",
      "7\n",
      "7\n"
     ]
    }
   ],
   "source": [
    "a = 7\n",
    "\n",
    "print(a)\n",
    "++a \n",
    "print(a)\n",
    "--a\n",
    "print(a)"
   ]
  },
  {
   "cell_type": "markdown",
   "metadata": {},
   "source": [
    "- Errernous copying without deep-copy"
   ]
  },
  {
   "cell_type": "code",
   "execution_count": 5,
   "metadata": {},
   "outputs": [
    {
     "name": "stdout",
     "output_type": "stream",
     "text": [
      "['hello world', 'hello world', 'hello world', 'hello world', 'hello world', 'hello world', 'hello world', 'hello world', 'hello world', 'hello world']\n",
      "################\n",
      "['-123', 'hello world', 'hello world', 'hello world', 'hello world', 'hello world', 'hello world', 'hello world', 'hello world', 'hello world']\n",
      "['-123', 'hello world', 'hello world', 'hello world', 'hello world', 'hello world', 'hello world', 'hello world', 'hello world', 'hello world']\n",
      "###############\n",
      "['hello world', 'hello world', 'hello world', 'hello world', 'hello world', 'hello world', 'hello world', 'hello world', 'hello world', 'hello world']\n",
      "['hello world', 'hello world', 'hello world', 'hello world', 'hello world', 'hello world', 'hello world', 'hello world', 'hello world', 'hello world']\n",
      "['-123', 'hello world', 'hello world', 'hello world', 'hello world', 'hello world', 'hello world', 'hello world', 'hello world', 'hello world']\n"
     ]
    }
   ],
   "source": [
    "from copy import copy, deepcopy\n",
    "\n",
    "\n",
    "class C:\n",
    "    \n",
    "\n",
    "    def __init__(self) -> None:\n",
    "        self.var1 = 'hello world'\n",
    "\n",
    "arc = [C() for _ in range(0, 10)]\n",
    "print([a.var1 for a in arc])\n",
    "\n",
    "k = copy(arc)                    # copies references\n",
    "k[0].var1 = '-123'\n",
    "\n",
    "print('################')\n",
    "\n",
    "print([a.var1 for a in k])\n",
    "print([a.var1 for a in arc])\n",
    "\n",
    "print('###############')\n",
    "\n",
    "arc = [C() for _ in range(0, 10)]\n",
    "print([a.var1 for a in arc])\n",
    "\n",
    "# Deepcopy\n",
    "dk = deepcopy(arc)                # real copy, super slow, don't use it \n",
    "dk[0].var1 = '-123'\n",
    "\n",
    "print([a.var1 for a in arc])\n",
    "print([a.var1 for a in dk])"
   ]
  },
  {
   "cell_type": "markdown",
   "metadata": {},
   "source": [
    "- Changing sequences durig iteration"
   ]
  },
  {
   "cell_type": "code",
   "execution_count": 28,
   "metadata": {},
   "outputs": [
    {
     "name": "stdout",
     "output_type": "stream",
     "text": [
      "['0', '1', '2', '3', '4', '5', '6', '7', '8', '9']\n",
      "['0', '1', '2', '3', '4']\n"
     ]
    }
   ],
   "source": [
    "li_a = [str(a) for a in range(0, 10)]\n",
    "\n",
    "print(li_a)\n",
    "\n",
    "for a in li_a:          # remove smth during iteration, undefined behaviordo not use it\n",
    "    li_a.pop()\n",
    "\n",
    "    # Dont remove or add elemnts when iterting through a list\n",
    "\n",
    "print(li_a)"
   ]
  },
  {
   "cell_type": "code",
   "execution_count": 31,
   "metadata": {},
   "outputs": [
    {
     "name": "stdout",
     "output_type": "stream",
     "text": [
      "[0, 1, 2, 3, 4, 5, 6, 7, 8, 9]\n"
     ]
    },
    {
     "ename": "IndexError",
     "evalue": "list index out of range",
     "output_type": "error",
     "traceback": [
      "\u001b[0;31m---------------------------------------------------------------------------\u001b[0m",
      "\u001b[0;31mIndexError\u001b[0m                                Traceback (most recent call last)",
      "Cell \u001b[0;32mIn [31], line 6\u001b[0m\n\u001b[1;32m      3\u001b[0m \u001b[39mprint\u001b[39m(li_b)\n\u001b[1;32m      5\u001b[0m \u001b[39mfor\u001b[39;00m i \u001b[39min\u001b[39;00m \u001b[39mrange\u001b[39m(\u001b[39m0\u001b[39m, \u001b[39mlen\u001b[39m(li_b)):\n\u001b[0;32m----> 6\u001b[0m     \u001b[39mif\u001b[39;00m li_b[i] \u001b[39m%\u001b[39m \u001b[39m2\u001b[39m \u001b[39m==\u001b[39m \u001b[39m0\u001b[39m:\n\u001b[1;32m      7\u001b[0m         \u001b[39mdel\u001b[39;00m li_b[i]\n",
      "\u001b[0;31mIndexError\u001b[0m: list index out of range"
     ]
    }
   ],
   "source": [
    "li_b = [x for x in range(0, 10)]\n",
    "\n",
    "print(li_b)\n",
    "\n",
    "for i in range(0, len(li_b)):\n",
    "    if li_b[i] % 2 == 0:\n",
    "        del li_b[i]"
   ]
  },
  {
   "cell_type": "markdown",
   "metadata": {},
   "source": [
    "- Promiscious exception handling"
   ]
  },
  {
   "cell_type": "code",
   "execution_count": 52,
   "metadata": {},
   "outputs": [
    {
     "name": "stdout",
     "output_type": "stream",
     "text": [
      "True\n",
      "False\n",
      "Key not found!\n",
      "True\n",
      "True\n",
      "Key not found!\n"
     ]
    }
   ],
   "source": [
    "def fkt(k):\n",
    "    try:\n",
    "        print('k' in k.keys())\n",
    "        print('l' in k.keys())\n",
    "        k['k'] / k['l']\n",
    "#    except Keynofound... would be the better solution, handle all exceptions specificy\n",
    "    except Exception as e:              # All Exceptions are catched\n",
    "        print('Key not found!')\n",
    "\n",
    "dic = {\n",
    "    'k' : 7,\n",
    "    'l' : 0\n",
    "}\n",
    "\n",
    "dic2 = {\n",
    "    'k' : 7,\n",
    "    'm' : 2\n",
    "}\n",
    "\n",
    "fkt(dic2)\n",
    "fkt(dic) # Really key not found? -> Division by 0 is reason for exception"
   ]
  },
  {
   "cell_type": "markdown",
   "metadata": {},
   "source": [
    "- Static variables vs others"
   ]
  },
  {
   "cell_type": "code",
   "execution_count": 61,
   "metadata": {},
   "outputs": [
    {
     "name": "stdout",
     "output_type": "stream",
     "text": [
      "hello world 139898495703536\n",
      "hello world 139898495703536\n",
      "\n",
      "123 9805152\n",
      "hello world 139898495703536\n",
      "\n",
      "123 9805152\n",
      "sz 139898609685552\n"
     ]
    }
   ],
   "source": [
    "class K:\n",
    "\n",
    "    var = 'hello world'\n",
    "\n",
    "    def __init__(self) -> None:\n",
    "        ...\n",
    "\n",
    "    def print_v(self):\n",
    "        print(self.var, id(self.var))\n",
    "\n",
    "k = K()\n",
    "k2 = K()\n",
    "\n",
    "k.print_v()\n",
    "k2.print_v()\n",
    "\n",
    "print()\n",
    "\n",
    "k.var = 123         # Reassigned instance variable to class, shadows the class variable\n",
    "k.print_v()\n",
    "k2.print_v()\n",
    "\n",
    "print()\n",
    "\n",
    "K.var = 'sz'        # Use class name instead of instance.\n",
    "\n",
    "k.print_v()\n",
    "k2.print_v()"
   ]
  },
  {
   "cell_type": "markdown",
   "metadata": {},
   "source": [
    "- Scoping issues"
   ]
  },
  {
   "cell_type": "code",
   "execution_count": 6,
   "metadata": {},
   "outputs": [
    {
     "name": "stdout",
     "output_type": "stream",
     "text": [
      "hello world\n"
     ]
    }
   ],
   "source": [
    "x = 'hello world'\n",
    "\n",
    "def fkt():\n",
    "    print(x)\n",
    "    x = 'hello world 2'\n",
    "\n",
    "print(x)"
   ]
  },
  {
   "cell_type": "markdown",
   "metadata": {},
   "source": [
    "- Wrong assumptions on attributes"
   ]
  },
  {
   "cell_type": "code",
   "execution_count": 71,
   "metadata": {},
   "outputs": [
    {
     "name": "stdout",
     "output_type": "stream",
     "text": [
      "123 123 123\n",
      "123 hello 123\n",
      "other hello other\n"
     ]
    }
   ],
   "source": [
    "class A:\n",
    "\n",
    "    varX = 123\n",
    "\n",
    "\n",
    "class B(A):\n",
    "    ...\n",
    "\n",
    "class C(A):\n",
    "    ...\n",
    "\n",
    "print(A.varX, B.varX, C.varX)\n",
    "\n",
    "B.varX = 'hello'\n",
    "\n",
    "print(A.varX, B.varX, C.varX)\n",
    "\n",
    "A.varX = 'other'\n",
    "\n",
    "print(A.varX, B.varX, C.varX)"
   ]
  },
  {
   "cell_type": "code",
   "execution_count": 75,
   "metadata": {},
   "outputs": [
    {
     "name": "stdout",
     "output_type": "stream",
     "text": [
      "123 123 123\n",
      "123 hello 123\n",
      "other hello 123\n"
     ]
    }
   ],
   "source": [
    "class A:\n",
    "\n",
    "    def __init__(self) -> None:\n",
    "        self.varX = 123\n",
    "\n",
    "\n",
    "class B(A):\n",
    "    ...\n",
    "\n",
    "class C(A):\n",
    "    ...\n",
    "\n",
    "a = A()\n",
    "b = B()\n",
    "c = C()\n",
    "\n",
    "print(c.varX, b.varX, c.varX)\n",
    "\n",
    "b.varX = 'hello'\n",
    "\n",
    "print(a.varX, b.varX, c.varX)\n",
    "\n",
    "a.varX = 'other'\n",
    "\n",
    "print(a.varX, b.varX, c.varX)"
   ]
  },
  {
   "cell_type": "markdown",
   "metadata": {},
   "source": [
    "- Closure binding issues (due to late lookup)\n",
    "> !!!"
   ]
  },
  {
   "cell_type": "code",
   "execution_count": 10,
   "metadata": {},
   "outputs": [
    {
     "name": "stdout",
     "output_type": "stream",
     "text": [
      "8 8 8 8 8 \n",
      "0 2 4 6 8 "
     ]
    },
    {
     "ename": "TypeError",
     "evalue": "'list' object is not callable",
     "output_type": "error",
     "traceback": [
      "\u001b[1;31m---------------------------------------------------------------------------\u001b[0m",
      "\u001b[1;31mTypeError\u001b[0m                                 Traceback (most recent call last)",
      "Cell \u001b[1;32mIn [10], line 14\u001b[0m\n\u001b[0;32m     11\u001b[0m \u001b[39mfor\u001b[39;00m fkt \u001b[39min\u001b[39;00m fkts2:\n\u001b[0;32m     12\u001b[0m     \u001b[39mprint\u001b[39m(fkt(\u001b[39m2\u001b[39m), end\u001b[39m=\u001b[39m\u001b[39m'\u001b[39m\u001b[39m \u001b[39m\u001b[39m'\u001b[39m)\n\u001b[1;32m---> 14\u001b[0m fkts2(\u001b[39m3\u001b[39;49m)()\n",
      "\u001b[1;31mTypeError\u001b[0m: 'list' object is not callable"
     ]
    }
   ],
   "source": [
    "fkts = [lambda x : i * x for i in range(5)] # i is looked up during definition of function, so it is always 4\n",
    "\n",
    "for fkt in fkts:\n",
    "    print(fkt(2), end=' ')\n",
    "\n",
    "print()\n",
    "\n",
    "# Solution:\n",
    "fkts2 = [lambda x, i=i : i * x for i in range(5)]\n",
    "\n",
    "for fkt in fkts2:\n",
    "    print(fkt(2), end=' ')\n",
    "\n",
    "fkts2(3)()\n"
   ]
  },
  {
   "cell_type": "markdown",
   "metadata": {},
   "source": [
    "- Misinterpreting the __ del __ (It could happen that del is executed when all vars are set to None)"
   ]
  },
  {
   "cell_type": "code",
   "execution_count": 95,
   "metadata": {},
   "outputs": [],
   "source": [
    "class A:\n",
    "\n",
    "    def __init__(self) -> None:\n",
    "        print('Init called')\n",
    "        self.varX = 'hello X'\n",
    "\n",
    "    # Within jupyter this works properly\n",
    "    def __del__(self):\n",
    "        print(self.varX)"
   ]
  },
  {
   "cell_type": "markdown",
   "metadata": {},
   "source": [
    "- Infinite loops by accident through setters"
   ]
  },
  {
   "cell_type": "code",
   "execution_count": null,
   "metadata": {},
   "outputs": [],
   "source": [
    "class C:\n",
    "\n",
    "    def __init__(self) -> None:\n",
    "        self.max_speed = 90\n",
    "\n",
    "    @property\n",
    "    def max_speed(self):\n",
    "        return self.max_speed\n",
    "\n",
    "    @max_speed.setter\n",
    "    def max_speed(self, max_speed):\n",
    "        print('Setter called')\n",
    "        self.max_speed = max_speed      # Referes to the setter not to the attribte, user _max_speed for variables \n",
    "\n",
    "c = C()\n",
    "print(c.max_speed)\n",
    "c.max_speed = 123\n",
    "print(c.max_speed)"
   ]
  },
  {
   "cell_type": "markdown",
   "metadata": {},
   "source": [
    "- Mix of intentions and tabs\n",
    "ALWYS THE SAMEINDENTIon"
   ]
  },
  {
   "cell_type": "code",
   "execution_count": 99,
   "metadata": {},
   "outputs": [
    {
     "name": "stdout",
     "output_type": "stream",
     "text": [
      "hello\n",
      "world\n"
     ]
    }
   ],
   "source": [
    "def fkt():\n",
    "    print('hello')\n",
    "\n",
    "def fkt2():\n",
    " print('world')\n",
    "\n",
    "fkt()\n",
    "fkt2()\n"
   ]
  },
  {
   "cell_type": "markdown",
   "metadata": {},
   "source": [
    "- Multiple function definition\n",
    "* Not possible in Python"
   ]
  },
  {
   "cell_type": "code",
   "execution_count": null,
   "metadata": {},
   "outputs": [],
   "source": [
    "class A:\n",
    "\n",
    "    def calc(self, a, b, c):\n",
    "        print(f'{a + b + c = }')\n",
    "\n",
    "    def calc(self, a, b):\n",
    "        print(f'{a + b = }')\n",
    "\n",
    "a = A()\n",
    "\n",
    "a.calc(1,3)"
   ]
  },
  {
   "cell_type": "markdown",
   "metadata": {},
   "source": [
    "- Use of ;"
   ]
  },
  {
   "cell_type": "code",
   "execution_count": 1,
   "metadata": {},
   "outputs": [
    {
     "name": "stdout",
     "output_type": "stream",
     "text": [
      "Hello world\n"
     ]
    }
   ],
   "source": [
    "print('Hello world');\n",
    ";\n"
   ]
  }
 ],
 "metadata": {
  "kernelspec": {
   "display_name": "Python 3.10.7 64-bit",
   "language": "python",
   "name": "python3"
  },
  "language_info": {
   "codemirror_mode": {
    "name": "ipython",
    "version": 3
   },
   "file_extension": ".py",
   "mimetype": "text/x-python",
   "name": "python",
   "nbconvert_exporter": "python",
   "pygments_lexer": "ipython3",
   "version": "3.10.7"
  },
  "orig_nbformat": 4,
  "vscode": {
   "interpreter": {
    "hash": "3e3c05f8bd316c203a4206866d7c595fbd3402cf2529d0a21658390b55369019"
   }
  }
 },
 "nbformat": 4,
 "nbformat_minor": 2
}
