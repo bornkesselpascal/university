{
 "cells": [
  {
   "cell_type": "markdown",
   "metadata": {},
   "source": [
    "# Excpetions and Errors"
   ]
  },
  {
   "cell_type": "markdown",
   "metadata": {},
   "source": [
    "* Logic Errors\n",
    "    * eg. count to 20 instead of 10\n",
    "    * not shown by interpreter\n",
    "* Exceptions\n",
    "* Syntax Errors\n",
    "    * eg. missing brackets"
   ]
  },
  {
   "cell_type": "markdown",
   "metadata": {},
   "source": [
    "## Exceptions"
   ]
  },
  {
   "cell_type": "code",
   "execution_count": 1,
   "metadata": {},
   "outputs": [
    {
     "ename": "ZeroDivisionError",
     "evalue": "division by zero",
     "output_type": "error",
     "traceback": [
      "\u001b[0;31m---------------------------------------------------------------------------\u001b[0m",
      "\u001b[0;31mZeroDivisionError\u001b[0m                         Traceback (most recent call last)",
      "Cell \u001b[0;32mIn [1], line 1\u001b[0m\n\u001b[0;32m----> 1\u001b[0m \u001b[39mprint\u001b[39m(\u001b[39m1\u001b[39;49m\u001b[39m/\u001b[39;49m\u001b[39m0\u001b[39;49m)\n",
      "\u001b[0;31mZeroDivisionError\u001b[0m: division by zero"
     ]
    }
   ],
   "source": [
    "print(1/0)"
   ]
  },
  {
   "cell_type": "code",
   "execution_count": 7,
   "metadata": {},
   "outputs": [
    {
     "name": "stdout",
     "output_type": "stream",
     "text": [
      "division by zero\n",
      "Done\n"
     ]
    }
   ],
   "source": [
    "try:                                # Try/Catch block\n",
    "    print(1/0)\n",
    "except ZeroDivisionError as e:      # Only specififc or all are possible to catch.\n",
    "    print(e)\n",
    "finally:\n",
    "    print('Done')"
   ]
  },
  {
   "cell_type": "code",
   "execution_count": 8,
   "metadata": {},
   "outputs": [
    {
     "ename": "RuntimeWarning",
     "evalue": "a is smaller then b",
     "output_type": "error",
     "traceback": [
      "\u001b[0;31m---------------------------------------------------------------------------\u001b[0m",
      "\u001b[0;31mRuntimeWarning\u001b[0m                            Traceback (most recent call last)",
      "Cell \u001b[0;32mIn [8], line 5\u001b[0m\n\u001b[1;32m      2\u001b[0m b \u001b[39m=\u001b[39m \u001b[39m7\u001b[39m\n\u001b[1;32m      4\u001b[0m \u001b[39mif\u001b[39;00m (a \u001b[39m-\u001b[39m b) \u001b[39m<\u001b[39m \u001b[39m0\u001b[39m:\n\u001b[0;32m----> 5\u001b[0m     \u001b[39mraise\u001b[39;00m \u001b[39mRuntimeWarning\u001b[39;00m(\u001b[39m'\u001b[39m\u001b[39ma is smaller then b\u001b[39m\u001b[39m'\u001b[39m)\n",
      "\u001b[0;31mRuntimeWarning\u001b[0m: a is smaller then b"
     ]
    }
   ],
   "source": [
    "a = 5\n",
    "b = 7\n",
    "\n",
    "if (a - b) < 0:\n",
    "    raise RuntimeWarning('a is smaller then b')"
   ]
  },
  {
   "cell_type": "markdown",
   "metadata": {},
   "source": [
    "## Own Exceptions"
   ]
  },
  {
   "cell_type": "code",
   "execution_count": 1,
   "metadata": {},
   "outputs": [
    {
     "name": "stdout",
     "output_type": "stream",
     "text": [
      "Got exception: Something happend\n"
     ]
    }
   ],
   "source": [
    "class MyExecption(Exception):                       # Inherit from Exception base class\n",
    "    def __init__(self, *args: object) -> None:\n",
    "        super().__init__(*args)\n",
    "\n",
    "    def __str__(self) -> str:\n",
    "        return super().__str__()\n",
    "\n",
    "\n",
    "def fkt_call():\n",
    "    raise MyExecption('Something happend')\n",
    "\n",
    "try:\n",
    "    fkt_call()\n",
    "except MyExecption as e:\n",
    "    print('Got exception:', e)"
   ]
  },
  {
   "cell_type": "markdown",
   "metadata": {},
   "source": [
    "## Catching multiple exceptions"
   ]
  },
  {
   "cell_type": "code",
   "execution_count": 2,
   "metadata": {},
   "outputs": [
    {
     "name": "stdout",
     "output_type": "stream",
     "text": [
      "warn\n",
      "2\n",
      "warn\n",
      "3\n",
      "runtime_warn\n"
     ]
    }
   ],
   "source": [
    "def fkt():\n",
    "    raise RuntimeWarning('warn')\n",
    "    #raise ZeroDivisionError('some exception')\n",
    "\n",
    "try:\n",
    "    fkt()\n",
    "except (ZeroDivisionError, RuntimeWarning) as e:    # Catch both exceptions in one block.\n",
    "    print(e)\n",
    "\n",
    "print('2')\n",
    "\n",
    "try:\n",
    "    fkt()\n",
    "except Exception as e:                              # All exeptions (derived from exeption). Don't do this.\n",
    "    print(e)\n",
    "\n",
    "print('3')\n",
    "\n",
    "try:\n",
    "    fkt()\n",
    "except ZeroDivisionError:                           # Individually handle each type.\n",
    "    print('ZeroDiv')\n",
    "except RuntimeWarning:\n",
    "    print('runtime_warn')\n"
   ]
  },
  {
   "cell_type": "markdown",
   "metadata": {},
   "source": [
    "## Errors\n",
    "\n",
    "Real syntax error, interpreter will tell during execution\n",
    "* Not possible to catch them"
   ]
  },
  {
   "cell_type": "code",
   "execution_count": 20,
   "metadata": {},
   "outputs": [
    {
     "ename": "SyntaxError",
     "evalue": "EOL while scanning string literal (2807031950.py, line 5)",
     "output_type": "error",
     "traceback": [
      "\u001b[0;36m  Cell \u001b[0;32mIn [20], line 5\u001b[0;36m\u001b[0m\n\u001b[0;31m    print('hello)\u001b[0m\n\u001b[0m                 ^\u001b[0m\n\u001b[0;31mSyntaxError\u001b[0m\u001b[0;31m:\u001b[0m EOL while scanning string literal\n"
     ]
    }
   ],
   "source": [
    "a = 7\n",
    "b = 5\n",
    "\n",
    "if a - b:\n",
    "    print('hello)"
   ]
  }
 ],
 "metadata": {
  "kernelspec": {
   "display_name": "Python 3.10.7 64-bit",
   "language": "python",
   "name": "python3"
  },
  "language_info": {
   "codemirror_mode": {
    "name": "ipython",
    "version": 3
   },
   "file_extension": ".py",
   "mimetype": "text/x-python",
   "name": "python",
   "nbconvert_exporter": "python",
   "pygments_lexer": "ipython3",
   "version": "3.10.7"
  },
  "orig_nbformat": 4,
  "vscode": {
   "interpreter": {
    "hash": "3e3c05f8bd316c203a4206866d7c595fbd3402cf2529d0a21658390b55369019"
   }
  }
 },
 "nbformat": 4,
 "nbformat_minor": 2
}
