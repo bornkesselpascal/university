{
 "cells": [
  {
   "cell_type": "markdown",
   "metadata": {},
   "source": [
    "# Idioms"
   ]
  },
  {
   "cell_type": "markdown",
   "metadata": {},
   "source": [
    "- Exceptions for error-checking\n",
    "- It's Easier to Ask Forgiveness than Permission (EAFP) not Look Before You Leap (LBYL)"
   ]
  },
  {
   "cell_type": "code",
   "execution_count": 2,
   "metadata": {},
   "outputs": [
    {
     "name": "stdout",
     "output_type": "stream",
     "text": [
      "name2 not found, processing differently\n",
      "name2 not found\n"
     ]
    }
   ],
   "source": [
    "di = {\n",
    "    'name' : 'Max',\n",
    "    'age' : 29\n",
    "}\n",
    "\n",
    "# Prefer (TryExept instead of checking, use it)\n",
    "try:\n",
    "    n2 = di['name2']\n",
    "    print('Found name')\n",
    "except KeyError:\n",
    "    print('name2 not found, processing differently')\n",
    "\n",
    "# try to use #1\n",
    "if 'name2' in di:                           # In other languages, look if it exist then do \n",
    "    n2 = di['name2']\n",
    "    print('Found name')\n",
    "else:\n",
    "    print('name2 not found')\n"
   ]
  },
  {
   "cell_type": "markdown",
   "metadata": {},
   "source": [
    "- Context managers for managing resources\n",
    "- Finally for cleanup, but prefere context managers"
   ]
  },
  {
   "cell_type": "code",
   "execution_count": 2,
   "metadata": {},
   "outputs": [],
   "source": [
    "# Prefer (Use enter,exit thing with context manager when dealing with ressources)\n",
    "with open('file', 'r') as fp:\n",
    "    fp.readlines()\n",
    "\n",
    "# Try to this avoid by using #1 \n",
    "try:\n",
    "    fp = open('file', 'r')\n",
    "    fp.readlines()\n",
    "finally:                \n",
    "    if fp is not None: # Could also fail in open...\n",
    "        fp.close()\n"
   ]
  },
  {
   "cell_type": "markdown",
   "metadata": {},
   "source": [
    "- Access variables if possible without getters/setters"
   ]
  },
  {
   "cell_type": "code",
   "execution_count": 8,
   "metadata": {},
   "outputs": [
    {
     "name": "stdout",
     "output_type": "stream",
     "text": [
      "hello\n",
      "123\n",
      "\n",
      "hello\n",
      "123\n"
     ]
    }
   ],
   "source": [
    "# Prefer\n",
    "class A:\n",
    "    \n",
    "    def __init__(self) -> None:\n",
    "        self.var1 = 'hello'\n",
    "\n",
    "a = A()\n",
    "print(a.var1)\n",
    "a.var1 = 123\n",
    "print(a.var1)\n",
    "print()\n",
    "\n",
    "# Try to use #1\n",
    "class B:\n",
    "\n",
    "    def __init__(self) -> None:\n",
    "        self._var1 = 'hello'\n",
    "\n",
    "    def set_var1(self, var):\n",
    "        self._var1 = var\n",
    "\n",
    "    def get_var1(self):\n",
    "        return self._var1\n",
    "\n",
    "\n",
    "b = B()\n",
    "print(b.get_var1())\n",
    "b.set_var1(123)\n",
    "print(b.get_var1())\n"
   ]
  },
  {
   "cell_type": "markdown",
   "metadata": {},
   "source": [
    "- If needed to control the sate, use properties (instead of getter/setter) decorator"
   ]
  },
  {
   "cell_type": "code",
   "execution_count": 45,
   "metadata": {},
   "outputs": [
    {
     "name": "stdout",
     "output_type": "stream",
     "text": [
      "90\n",
      "Limiting max_speed to 100\n",
      "100\n"
     ]
    }
   ],
   "source": [
    "class C:\n",
    "\n",
    "    def __init__(self) -> None:\n",
    "        self._max_speed = 90               # \"Internal vars\"\n",
    "        self._min_speed = 30\n",
    "\n",
    "    @property                               # Access it like any other variables, internally calls this function\n",
    "    def max_speed(self):\n",
    "        return self._max_speed\n",
    "\n",
    "    @max_speed.setter                       # Do consitency checks\n",
    "    def max_speed(self, max_speed):\n",
    "        if max_speed > 100:\n",
    "            print('Limiting max_speed to 100')\n",
    "            self._max_speed = 100\n",
    "        else:\n",
    "            self._max_speed = max_speed\n",
    "\n",
    "c = C()\n",
    "print(c.max_speed)\n",
    "c.max_speed = 123\n",
    "print(c.max_speed)"
   ]
  },
  {
   "cell_type": "markdown",
   "metadata": {},
   "source": [
    "- Dictionaries in dynamic records (different entries, variable things, changing keys)\n",
    "- Classes in static \n",
    "if a record always has the same fields, make this explicit in a class; if the fields may vary (be present or not), use a dictionary."
   ]
  },
  {
   "cell_type": "code",
   "execution_count": 9,
   "metadata": {},
   "outputs": [],
   "source": [
    "dic = {\n",
    "    'name' : 'max',\n",
    "    'age' : 29,\n",
    "}\n",
    "\n",
    "dic2 = {\n",
    "    'name' : 'max',\n",
    "    'age' : 39,\n",
    "    'place' : 'there',\n",
    "    'other' : 'info'\n",
    "}\n",
    "\n",
    "dic3 = {\n",
    "    'name' : 'usb',\n",
    "    'balance' : 3\n",
    "}\n",
    "\n",
    "class Person:\n",
    "\n",
    "    def __init__(self, name, age, place) -> None:\n",
    "        self.name = name\n",
    "        self.age = age\n",
    "        self.place = place\n",
    "\n",
    "\n",
    "p1 = Person('Max', 29, 'there')"
   ]
  },
  {
   "cell_type": "markdown",
   "metadata": {},
   "source": [
    "- Indicate not used (throw away) variables with _"
   ]
  },
  {
   "cell_type": "code",
   "execution_count": 1,
   "metadata": {},
   "outputs": [
    {
     "name": "stdout",
     "output_type": "stream",
     "text": [
      "(1, 2, 3, 4)\n",
      "1 3\n",
      "1\n",
      "1 3\n"
     ]
    }
   ],
   "source": [
    "def fkt_rt():\n",
    "    return 1,2,3,4\n",
    "\n",
    "print(fkt_rt())\n",
    "\n",
    "# no need to store all return values if not all are used them if not used\n",
    "pr1, pr2, pr3, pr4 = fkt_rt()\n",
    "print(pr1, pr3)\n",
    "\n",
    "lil = fkt_rt()\n",
    "print(lil[0])\n",
    "\n",
    "# Only use 1 and 3, discard with _\n",
    "r1, _, r3, _ = fkt_rt()\n",
    "\n",
    "print(r1, r3)"
   ]
  },
  {
   "cell_type": "markdown",
   "metadata": {},
   "source": [
    "- Implicit True/False\n",
    "- Except: Distinguish between values like None, 0, []"
   ]
  },
  {
   "cell_type": "code",
   "execution_count": 33,
   "metadata": {},
   "outputs": [
    {
     "name": "stdout",
     "output_type": "stream",
     "text": [
      "not l_b\n",
      "l_b is None\n",
      "not l_c\n",
      "l_c == 0\n",
      "not l_a\n",
      "l_a is\n",
      "len, 0\n"
     ]
    }
   ],
   "source": [
    "l_a = []\n",
    "l_b = None\n",
    "l_c = 0\n",
    "\n",
    "# don't do this when checking for None\n",
    "if not l_b:\n",
    "    print('not l_b')\n",
    "\n",
    "# do this\n",
    "if l_b is None:\n",
    "    print('l_b is None')\n",
    "\n",
    "\n",
    "# don't do this when checking for 0\n",
    "if not l_c:\n",
    "    print('not l_c')\n",
    "\n",
    "# do this\n",
    "if l_c == 0:\n",
    "    print('l_c == 0')\n",
    "\n",
    "\n",
    "# don't do this when checking for empty list\n",
    "if not l_a:\n",
    "    print('not l_a')\n",
    "\n",
    "# do this\n",
    "if l_a == []:\n",
    "    print('l_a is')\n",
    "\n",
    "# or more obvious this\n",
    "if len(l_a) == 0:\n",
    "    print('len, 0')"
   ]
  },
  {
   "cell_type": "markdown",
   "metadata": {},
   "source": [
    "- enumerate to combine iteration and counting"
   ]
  },
  {
   "cell_type": "code",
   "execution_count": 20,
   "metadata": {},
   "outputs": [
    {
     "name": "stdout",
     "output_type": "stream",
     "text": [
      "0 a 1 b 2 c 3 d 4 e 5 f \n",
      "0 a 1 b 2 c 3 d 4 e 5 f "
     ]
    }
   ],
   "source": [
    "entries = ['a', 'b', 'c', 'd', 'e', 'f']\n",
    "\n",
    "# Avoid doing this ++ Loop with Range and Lenght\n",
    "ctr = 0\n",
    "for elem in entries:\n",
    "    print(ctr, elem, end=' ')\n",
    "    ctr += 1\n",
    "\n",
    "print()\n",
    "\n",
    "# Prefer using this\n",
    "for ctr, elem in enumerate(entries):\n",
    "    print(ctr, elem, end=' ')\n"
   ]
  },
  {
   "cell_type": "markdown",
   "metadata": {},
   "source": [
    "- Typing for increased readability\n",
    "    * Help tot use funcion (which types)"
   ]
  },
  {
   "cell_type": "code",
   "execution_count": 1,
   "metadata": {},
   "outputs": [],
   "source": [
    "from typing import List, Union\n",
    "\n",
    "def fkt_2() -> None:\n",
    "    return None\n",
    "\n",
    "class SumCalc:\n",
    "\n",
    "    def __init__(self, elems : List[Union[int, float]]) -> None:\n",
    "        self.elements = elems\n",
    "        self.sum = sum(elems)\n",
    "\n",
    "\n",
    "def fkt(li : List[int]) -> SumCalc:\n",
    "    return SumCalc([-x for x in li])\n",
    "\n",
    "a = SumCalc([1,2,3,4])\n"
   ]
  },
  {
   "cell_type": "markdown",
   "metadata": {},
   "source": [
    "- Avoid type-checking with type(x) == Type"
   ]
  },
  {
   "cell_type": "code",
   "execution_count": 2,
   "metadata": {},
   "outputs": [
    {
     "name": "stdout",
     "output_type": "stream",
     "text": [
      "is_instance\n"
     ]
    }
   ],
   "source": [
    "class A:\n",
    "    ...\n",
    "\n",
    "class B(A):\n",
    "    ...\n",
    "\n",
    "\n",
    "b = B()\n",
    "\n",
    "# Try to avoid\n",
    "if type(b) == A:\n",
    "    print('type B == a')\n",
    "\n",
    "# Rather use\n",
    "if isinstance(b, A):\n",
    "    print('is_instance')\n"
   ]
  }
 ],
 "metadata": {
  "kernelspec": {
   "display_name": "Python 3.10.7 64-bit",
   "language": "python",
   "name": "python3"
  },
  "language_info": {
   "codemirror_mode": {
    "name": "ipython",
    "version": 3
   },
   "file_extension": ".py",
   "mimetype": "text/x-python",
   "name": "python",
   "nbconvert_exporter": "python",
   "pygments_lexer": "ipython3",
   "version": "3.10.7"
  },
  "orig_nbformat": 4,
  "vscode": {
   "interpreter": {
    "hash": "3e3c05f8bd316c203a4206866d7c595fbd3402cf2529d0a21658390b55369019"
   }
  }
 },
 "nbformat": 4,
 "nbformat_minor": 2
}
