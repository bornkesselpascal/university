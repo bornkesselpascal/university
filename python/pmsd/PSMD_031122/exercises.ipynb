{
 "cells": [
  {
   "cell_type": "markdown",
   "metadata": {},
   "source": [
    "# Aufgaben"
   ]
  },
  {
   "cell_type": "markdown",
   "metadata": {},
   "source": [
    "## Input / Output\n",
    "1. Read a name from the console, output it together with its length.\n",
    "1. Write the contents from one file to another file, no copy move."
   ]
  },
  {
   "cell_type": "code",
   "execution_count": 1,
   "metadata": {},
   "outputs": [],
   "source": [
    "# 1\n",
    "#name = input(\"Name?\")\n",
    "#print(f'Name is {name}')\n",
    "\n",
    "\n",
    "# 2\n",
    "with open('file.txt', 'r') as fp:\n",
    "    content = fp.readlines()\n",
    "\n",
    "with open('newfile.txt', 'w') as fp:\n",
    "    fp.writelines(content)"
   ]
  },
  {
   "cell_type": "markdown",
   "metadata": {},
   "source": [
    "## Decision Controls\n",
    "1. Write a program that compares the number diff and prints if it is huge, middle, or small (Huge > 20; Medium 20 > medium > 10; Small < 11).\n",
    "1. Identify which comparisons you can do? (e.g. int ↔ float, int ↔ string, etc.,) \n",
    "1. Figure out whats about with the **is** keyword vs **==**. (_Hint:_ `a = [1,2,3]`, `b = [1,2,3]`, `a == b`, `a is b`)"
   ]
  },
  {
   "cell_type": "code",
   "execution_count": 5,
   "metadata": {},
   "outputs": [
    {
     "name": "stdout",
     "output_type": "stream",
     "text": [
      "Medium\n",
      "a == b=True\n",
      "a is b=False\n"
     ]
    }
   ],
   "source": [
    "# 1\n",
    "a = 7\n",
    "b = 18\n",
    "\n",
    "diff = abs(a-b)\n",
    "if diff > 20:\n",
    "    print('Huge')\n",
    "elif diff > 10:         # No double check (< 20) is required here.\n",
    "    print('Medium')\n",
    "else:\n",
    "    print('Small')\n",
    "\n",
    "\n",
    "# 3\n",
    "a = [1,2,3]\n",
    "b = [1,2,3]\n",
    "\n",
    "print(f'{a == b=}')     # Checks the content\n",
    "print(f'{a is b=}')     # Checks for identity (memory location, same object)"
   ]
  },
  {
   "cell_type": "markdown",
   "metadata": {},
   "source": [
    "## Control Flows\n",
    "1. Write a tool that calculates the fibonacci numbers (0 1 1 2 3 5 8 13 21 ...) up to X using `for` and `while`."
   ]
  },
  {
   "cell_type": "code",
   "execution_count": 14,
   "metadata": {},
   "outputs": [
    {
     "name": "stdout",
     "output_type": "stream",
     "text": [
      "0\n",
      "1\n",
      "1\n",
      "2\n",
      "3\n",
      "5\n",
      "8\n",
      "13\n",
      "21\n"
     ]
    }
   ],
   "source": [
    "max_number = 20\n",
    "result = 0\n",
    "i = 0\n",
    "nbr1 = 0\n",
    "nbr2 = 1\n",
    "\n",
    "while result < max_number:\n",
    "    if i <= 1:\n",
    "        result = i\n",
    "    else:\n",
    "        result = nbr1 + nbr2\n",
    "        nbr1 = nbr2\n",
    "        nbr2 = result\n",
    "\n",
    "    i+=1\n",
    "    print(result)\n",
    "\n",
    "    ## See  moodle\n",
    "\n",
    "    # Loops/ifs dont have their own scope\n"
   ]
  },
  {
   "cell_type": "markdown",
   "metadata": {},
   "source": [
    "---\n",
    "## Functions\n",
    "1. Write a function that takes a variable number of arguments but not providing a container type.\n",
    "    * If you do not know how many arguments that will be passed into your function, add a * before the parameter name in the function definition.\n",
    "    * This way the function will receive a tuple of arguments, and can access the items accordingly.\n",
    "1. Write a function that takes 3 input arguments and returns 3 results.\n",
    "1. Write a function that takes an arbitrary kwarg and add this to an existing dict.\n",
    "    * If you do not know how many keyword arguments that will be passed into your function, add two asterisk: ** before the parameter name in the function definition.\n",
    "    * This way the function will receive a dictionary of arguments, and can access the items accordingly."
   ]
  },
  {
   "cell_type": "code",
   "execution_count": 17,
   "metadata": {},
   "outputs": [
    {
     "name": "stdout",
     "output_type": "stream",
     "text": [
      "(1, 2, 3)\n",
      "1 2 3\n",
      "{'name': 'Mustermann', 'age': 20, 'location': 'Ingolstadt'}\n"
     ]
    }
   ],
   "source": [
    "# 1\n",
    "def fkt_1(*l):\n",
    "    print(l)\n",
    "\n",
    "fkt_1(1,2,3)\n",
    "\n",
    "\n",
    "# 2\n",
    "def fkt_2(arg1, arg2, arg3):\n",
    "    print(arg1, arg2, arg3)\n",
    "\n",
    "fkt_2(1,2,3)\n",
    "\n",
    "\n",
    "# 3\n",
    "dic = {\n",
    "    'name': 'Mustermann',\n",
    "    'age': 19\n",
    "}\n",
    "\n",
    "def fkt_3(**kwargs):\n",
    "    dic.update(kwargs)\n",
    "\n",
    "fkt_3(location = 'Ingolstadt',age = 20)\n",
    "print(dic)"
   ]
  },
  {
   "cell_type": "markdown",
   "metadata": {},
   "source": [
    "## Classes\n",
    "1. Create a class that has static and non-static members.\n",
    "1. Add a class that contains a static method.\n",
    "1. Create a class that has multiple base-classes and different member functions in classes."
   ]
  },
  {
   "cell_type": "code",
   "execution_count": 23,
   "metadata": {},
   "outputs": [
    {
     "name": "stdout",
     "output_type": "stream",
     "text": [
      "['__class__', '__delattr__', '__dict__', '__dir__', '__doc__', '__eq__', '__format__', '__ge__', '__getattribute__', '__gt__', '__hash__', '__init__', '__init_subclass__', '__le__', '__lt__', '__module__', '__ne__', '__new__', '__reduce__', '__reduce_ex__', '__repr__', '__setattr__', '__sizeof__', '__str__', '__subclasshook__', '__weakref__', 'variable1', 'variable2', 'variable3']\n",
      "Staic method called\n",
      "Staic method called\n",
      "Print from C1.\n",
      "Print from C2.\n",
      "Called from D.\n"
     ]
    }
   ],
   "source": [
    "# 1\n",
    "class A:\n",
    "    # Static members\n",
    "    variable1 = 1\n",
    "    variable2 = 2\n",
    "\n",
    "    def __init__(self) -> None:\n",
    "        # Non-static (instance) members\n",
    "        self.variable3 = 3\n",
    "\n",
    "print(dir(A()))\n",
    "\n",
    "\n",
    "# 2\n",
    "class B:\n",
    "\n",
    "    @staticmethod                       # <-- Don't forget the decorator.\n",
    "    def staticmethod():\n",
    "        print(\"Staic method called\")\n",
    "\n",
    "b = B()\n",
    "B.staticmethod()\n",
    "b.staticmethod()\n",
    "\n",
    "\n",
    "#3\n",
    "class C1: \n",
    "    def print_name(self):               # Non-static method (with self).\n",
    "        print('Print from C1.')\n",
    "\n",
    "class C2:\n",
    "    def print_name(self):\n",
    "        print('Print from C2.')\n",
    "\n",
    "class D(C1, C2):                        # Position of the base clases are relevant.\n",
    "    def print_name(self):\n",
    "        super().print_name()\n",
    "        C2.print_name(self)\n",
    "        print('Called from D.')\n",
    "\n",
    "d = D()\n",
    "d.print_name()"
   ]
  }
 ],
 "metadata": {
  "kernelspec": {
   "display_name": "Python 3.10.7 64-bit",
   "language": "python",
   "name": "python3"
  },
  "language_info": {
   "codemirror_mode": {
    "name": "ipython",
    "version": 3
   },
   "file_extension": ".py",
   "mimetype": "text/x-python",
   "name": "python",
   "nbconvert_exporter": "python",
   "pygments_lexer": "ipython3",
   "version": "3.10.7"
  },
  "orig_nbformat": 4,
  "vscode": {
   "interpreter": {
    "hash": "3e3c05f8bd316c203a4206866d7c595fbd3402cf2529d0a21658390b55369019"
   }
  }
 },
 "nbformat": 4,
 "nbformat_minor": 2
}
