{
 "cells": [
  {
   "cell_type": "markdown",
   "metadata": {},
   "source": [
    "# Classes"
   ]
  },
  {
   "cell_type": "markdown",
   "metadata": {},
   "source": [
    "## Creation"
   ]
  },
  {
   "cell_type": "code",
   "execution_count": 1,
   "metadata": {},
   "outputs": [
    {
     "name": "stdout",
     "output_type": "stream",
     "text": [
      "a=<__main__.A object at 0x7f7c833ac6a0> type(a)=<class '__main__.A'>\n"
     ]
    }
   ],
   "source": [
    "class A:\n",
    "    ...\n",
    "\n",
    "# Instantiation\n",
    "a = A()\n",
    "print(f'{a=} {type(a)=}')"
   ]
  },
  {
   "cell_type": "markdown",
   "metadata": {},
   "source": [
    "## Members + Functions"
   ]
  },
  {
   "cell_type": "code",
   "execution_count": 2,
   "metadata": {},
   "outputs": [
    {
     "name": "stdout",
     "output_type": "stream",
     "text": [
      "321\n",
      "xxx\n"
     ]
    }
   ],
   "source": [
    "class A:\n",
    "\n",
    "    def __init__(self) -> None:\n",
    "        self.var = '321'\n",
    "\n",
    "    def other_fkt(self):\n",
    "        self.x = 'xxx'\n",
    "\n",
    "    def fkt(self):\n",
    "        print('In call')\n",
    "\n",
    "a = A()\n",
    "print(a.var)\n",
    "a.other_fkt()\n",
    "# A.other_fkt(a)\n",
    "print(a.x)"
   ]
  },
  {
   "cell_type": "markdown",
   "metadata": {},
   "source": [
    "## Static types / fkts"
   ]
  },
  {
   "cell_type": "code",
   "execution_count": 11,
   "metadata": {},
   "outputs": [
    {
     "name": "stdout",
     "output_type": "stream",
     "text": [
      "Static fkt\n",
      "Static fkt\n",
      "\n",
      "Static fkt2\n"
     ]
    }
   ],
   "source": [
    "class A:\n",
    "\n",
    "    var_x = 'static str'\n",
    "    ctr = 0\n",
    "\n",
    "    @staticmethod\n",
    "    def fkt():\n",
    "        print('Static fkt')\n",
    "\n",
    "    def fkt2():\n",
    "        print('Static fkt2')\n",
    "\n",
    "a = A()\n",
    "ab = A()\n",
    "\n",
    "# print(a.var_x, id(a.var_x))\n",
    "# print(ab.var_x, id(ab.var_x))\n",
    "# a.var_x = '123'\n",
    "# print(a.var_x, id(a.var_x))\n",
    "# print(ab.var_x, id(ab.var_x))\n",
    "\n",
    "a.fkt()\n",
    "A.fkt()\n",
    "print()\n",
    "#a.fkt2()# -> does not work\n",
    "A.fkt2()"
   ]
  },
  {
   "cell_type": "markdown",
   "metadata": {},
   "source": [
    "# Dynamic abilities of classes"
   ]
  },
  {
   "cell_type": "code",
   "execution_count": 20,
   "metadata": {},
   "outputs": [
    {
     "name": "stdout",
     "output_type": "stream",
     "text": [
      "Other fkt 123\n",
      "Direct function 123\n",
      "Direct function 123\n",
      "Direct function 123\n"
     ]
    }
   ],
   "source": [
    "import types\n",
    "\n",
    "class A:\n",
    "\n",
    "    def __init__(self):\n",
    "        self.variable = 123\n",
    "\n",
    "    def print_smth(self, to_print):\n",
    "        print('to_print', to_print)\n",
    "\n",
    "#print(dir(A))\n",
    "\n",
    "#print()\n",
    "\n",
    "a = A()\n",
    "b = A()\n",
    "#print(dir(a))\n",
    "\n",
    "# print()\n",
    "\n",
    "#a.variable2 = -321\n",
    "#print(dir(a))\n",
    "\n",
    "# print()\n",
    "\n",
    "a.fkt_other = types.MethodType(lambda self: print('Other fkt', self.variable), a)\n",
    "a.fkt_other()\n",
    "\n",
    "A.direct_fkt = lambda self: print('Direct function', self.variable)\n",
    "\n",
    "a.direct_fkt()\n",
    "b.direct_fkt()\n",
    "\n",
    "#b.fkt_other()"
   ]
  },
  {
   "cell_type": "markdown",
   "metadata": {},
   "source": [
    "## Inheritance"
   ]
  },
  {
   "cell_type": "code",
   "execution_count": 24,
   "metadata": {},
   "outputs": [
    {
     "name": "stdout",
     "output_type": "stream",
     "text": [
      "Base init\n",
      "Init-derived 123\n",
      "Other Function\n",
      "Base other 2\n",
      "Der other 2\n"
     ]
    }
   ],
   "source": [
    "class Base:\n",
    "\n",
    "    def __init__(self) -> None:\n",
    "        print('Base init')\n",
    "        self.base_var = 123\n",
    "\n",
    "    def other_fkt(self):\n",
    "        print('Other Function')\n",
    "\n",
    "    def other_2(self):\n",
    "        print('Base other 2')\n",
    "\n",
    "class Derived(Base):\n",
    "\n",
    "    def __init__(self) -> None:\n",
    "        super().__init__()\n",
    "        print('Init-derived', self.base_var)\n",
    "\n",
    "    def other_2(self):\n",
    "        super().other_2()\n",
    "        print('Der other 2')\n",
    "\n",
    "a = Derived()\n",
    "a.other_fkt()\n",
    "a.other_2()"
   ]
  },
  {
   "cell_type": "code",
   "execution_count": 31,
   "metadata": {},
   "outputs": [
    {
     "name": "stdout",
     "output_type": "stream",
     "text": [
      "Base init 140172757746064 <class '__main__.Derived'>\n",
      "Init-derived 140172757746064 <class '__main__.Derived'>\n",
      "\n",
      "Other Function 140172757746064 <class '__main__.Derived'>\n",
      "\n",
      "Base other 2 140172757746064 <class '__main__.Derived'>\n",
      "Super:  <super: <class 'Derived'>, <Derived object>> <class 'super'> 140172749185088\n",
      "Der other 2 140172757746064 <class '__main__.Derived'>\n"
     ]
    }
   ],
   "source": [
    "class Base:\n",
    "\n",
    "    def __init__(self) -> None:\n",
    "        print('Base init', id(self), type(self))\n",
    "        self.base_var = 123\n",
    "\n",
    "    def other_fkt(self):\n",
    "        print('Other Function', id(self), type(self))\n",
    "\n",
    "    def other_2(self):\n",
    "        print('Base other 2', id(self), type(self))\n",
    "\n",
    "class Derived(Base):\n",
    "\n",
    "    def __init__(self) -> None:\n",
    "        super().__init__()\n",
    "        print('Init-derived', id(self), type(self))\n",
    "\n",
    "    def other_2(self):\n",
    "        super().other_2()\n",
    "        print('Super: ', super(), type(super()), id(super()))\n",
    "        print('Der other 2', id(self), type(self))\n",
    "\n",
    "a = Derived()\n",
    "print()\n",
    "a.other_fkt()\n",
    "print()\n",
    "a.other_2()"
   ]
  },
  {
   "cell_type": "markdown",
   "metadata": {},
   "source": [
    "## Multiple Inheritance"
   ]
  },
  {
   "cell_type": "code",
   "execution_count": 37,
   "metadata": {},
   "outputs": [
    {
     "name": "stdout",
     "output_type": "stream",
     "text": [
      "B1 init\n",
      "B2 init\n",
      "B3 init\n",
      "Dervived init\n",
      "B1 print\n"
     ]
    }
   ],
   "source": [
    "class B1:\n",
    "\n",
    "    def __init__(self) -> None:\n",
    "        print('B1 init')\n",
    "\n",
    "    def print_fkt(self):\n",
    "        print('B1 print')\n",
    "\n",
    "\n",
    "class B2:\n",
    "\n",
    "    def __init__(self) -> None:\n",
    "        print('B2 init')\n",
    "\n",
    "    def print_fkt(self):\n",
    "        print('B2 print')\n",
    "\n",
    "\n",
    "class B3:\n",
    "\n",
    "    def __init__(self) -> None:\n",
    "        print('B3 init')\n",
    "\n",
    "    def print_fkt(self):\n",
    "        print('B3 print')\n",
    "\n",
    "class Derived(B1, B2, B3):\n",
    "\n",
    "    def __init__(self) -> None:\n",
    "        B1.__init__(self)\n",
    "        B2.__init__(self)\n",
    "        B3.__init__(self)\n",
    "        print('Dervived init')\n",
    "\n",
    "a = Derived()\n",
    "a.print_fkt()"
   ]
  },
  {
   "cell_type": "markdown",
   "metadata": {},
   "source": [
    "## Private / Public"
   ]
  },
  {
   "cell_type": "code",
   "execution_count": 41,
   "metadata": {},
   "outputs": [],
   "source": [
    "class A:\n",
    "\n",
    "    def __init__(self) -> None:\n",
    "        self._kindapublic = '123'\n",
    "        self.__anotherkindapublic = 321\n",
    "\n",
    "a = A()\n",
    "# Not really private, but only using name-mangling\n",
    "# print(a.__anotherkindapublic)"
   ]
  },
  {
   "cell_type": "markdown",
   "metadata": {},
   "source": [
    "## Special Functions"
   ]
  },
  {
   "cell_type": "code",
   "execution_count": 5,
   "metadata": {},
   "outputs": [
    {
     "name": "stdout",
     "output_type": "stream",
     "text": [
      "Contructor like\n",
      "Destructor like\n",
      "Entering\n",
      "Exiting None None None\n",
      "[C]_Human_Readable\n",
      "['__class__', '__delattr__', '__dict__', '__dir__', '__doc__', '__eq__', '__format__', '__ge__', '__getattribute__', '__gt__', '__hash__', '__init__', '__init_subclass__', '__le__', '__lt__', '__module__', '__ne__', '__new__', '__reduce__', '__reduce_ex__', '__repr__', '__setattr__', '__sizeof__', '__str__', '__subclasshook__', '__weakref__']\n"
     ]
    }
   ],
   "source": [
    "class A:\n",
    "    def __init__(self) -> None:             # Called after creating the instance, therefore does not really create the object.\n",
    "        self.a = 123\n",
    "        print('Contructor like')\n",
    "\n",
    "\n",
    "    def __del__(self):                      # Called after destruction, maybe cleanup already happend maybe not.\n",
    "        # self.a may not be there anymore\n",
    "        print('Destructor like')\n",
    "\n",
    "def fkt():\n",
    "    a = A() # Out of scope, so destruct it...\n",
    "\n",
    "fkt()\n",
    "\n",
    "\n",
    "\n",
    "class B:\n",
    "    def __enter__(self):                    # Open someting in class (eg. file resources).\n",
    "        print('Entering')\n",
    "\n",
    "    def __exit__(self, *args):              # Always called before destructor, all objects are there. Use for safely closing ressources (eg. file resources).\n",
    "        print('Exiting', *args)\n",
    "\n",
    "with B() as b:                              # Context manager, when entering __enter__ is called. On this case init & del are also called.\n",
    "    # Access functions b.readline().\n",
    "    pass\n",
    "\n",
    "# Example\n",
    "# with open('file.txt', 'r') as fp:\n",
    "#     fp.readline()\n",
    "\n",
    "\n",
    "\n",
    "class C:\n",
    "\n",
    "    def __str__(self) -> str:               # Called every time when coverting class to string (cast to string, through fct call).\n",
    "        return '[C]_Human_Readable'\n",
    "\n",
    "    def __repr__(self) -> str:              # If no string representation is there, used for debuggung.\n",
    "        return '[C]_for_debugging'\n",
    "\n",
    "\n",
    "    # Other functions like them below **should not be used**.\n",
    "    #   * Called every time when an argument is set (eg to create read only class).\n",
    "    def __setattr__(self, __name: str) -> None:\n",
    "        pass\n",
    "\n",
    "c = C()\n",
    "print(c)\n",
    "\n",
    "print(dir(C))"
   ]
  }
 ],
 "metadata": {
  "kernelspec": {
   "display_name": "Python 3.10.7 64-bit",
   "language": "python",
   "name": "python3"
  },
  "language_info": {
   "codemirror_mode": {
    "name": "ipython",
    "version": 3
   },
   "file_extension": ".py",
   "mimetype": "text/x-python",
   "name": "python",
   "nbconvert_exporter": "python",
   "pygments_lexer": "ipython3",
   "version": "3.10.7"
  },
  "orig_nbformat": 4,
  "vscode": {
   "interpreter": {
    "hash": "3e3c05f8bd316c203a4206866d7c595fbd3402cf2529d0a21658390b55369019"
   }
  }
 },
 "nbformat": 4,
 "nbformat_minor": 2
}
